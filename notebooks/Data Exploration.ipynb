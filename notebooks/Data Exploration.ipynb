{
 "cells": [
  {
   "cell_type": "markdown",
   "metadata": {},
   "source": [
    "3. For this project, I chose two data sets within education.\n",
    "4. I chose a data set consisting of graduation rates among different demographics of students in school districts throughout the country. My second data set consisted of teachers salaries and compensation based on years of experience and school district. \n",
    "5. I think it would be worthwhile to explore how teachers compensation affects high school dropout rates. Is there any correlation between lower compensation and higher dropout rates? I also think another interesting exploration of these data sets could be determining whether there is a correlation between salary of educators and racial/ethnic demogrphics in the school district. \n"
   ]
  },
  {
   "cell_type": "code",
   "execution_count": 29,
   "metadata": {},
   "outputs": [],
   "source": [
    "import numpy as np \n",
    "import pandas as pd\n",
    "import math"
   ]
  },
  {
   "cell_type": "markdown",
   "metadata": {},
   "source": [
    "This is converting the two data sets to data frames and removing empty colums from the Graduation rate data set."
   ]
  },
  {
   "cell_type": "code",
   "execution_count": 30,
   "metadata": {
    "scrolled": true
   },
   "outputs": [],
   "source": [
    "GradRateData = pd.read_csv('../data/raw/GR.csv') \n",
    "TeacherData = pd.read_csv('../data/raw/TC.txt',sep='\\t') \n",
    "GradRateData = GradRateData.drop(columns=['Academic Subject', 'Age/Grade','Grade Level','LEP Status Description',\n",
    "                                          'Mckinney-Vento Subgrantee Status','Title I, Part A Program Type',\n",
    "                                          'Language','Title I, Part D Program Type','Progress Level'])"
   ]
  },
  {
   "cell_type": "markdown",
   "metadata": {},
   "source": [
    "Here, I am dividing each NCES school id by 10000 using integer division to convert it to the NCES district id. "
   ]
  },
  {
   "cell_type": "code",
   "execution_count": 31,
   "metadata": {},
   "outputs": [],
   "source": [
    "TeacherData[\"NCESSCH\"]=TeacherData[\"NCESSCH\"].apply(lambda x : x//10000)"
   ]
  },
  {
   "cell_type": "markdown",
   "metadata": {},
   "source": [
    "Now, I am renaming the columns corresponding to the NCES District id in both data sets so that I can merge the \n",
    "two based on NCES district id. I also calculate the mean of the mean base salary for all entries in the data frame. Column names are described in detail in the references directory documentation. "
   ]
  },
  {
   "cell_type": "code",
   "execution_count": 32,
   "metadata": {},
   "outputs": [
    {
     "name": "stdout",
     "output_type": "stream",
     "text": [
      "           id  PCT_BACH  PCT_ADVC  P_EXPLT6  P_EXPGT5  MEAN_EXP  M_BSALT6  \\\n",
      "0     4004500      53.5      46.5      36.0      64.0         9     39632   \n",
      "1     4004500      53.5      46.5      36.0      64.0         9     39632   \n",
      "2     4004500      53.5      46.5      36.0      64.0         9     39632   \n",
      "3     4004500      53.5      46.5      36.0      64.0         9     39632   \n",
      "4     4004500      53.5      46.5      36.0      64.0         9     39632   \n",
      "...       ...       ...       ...       ...       ...       ...       ...   \n",
      "1368  4032400      57.6      42.4      36.4      63.6         7     35047   \n",
      "1369  4032400      57.6      42.4      36.4      63.6         7     35047   \n",
      "1370  4032400      57.6      42.4      36.4      63.6         7     35047   \n",
      "1371  4032400      57.6      42.4      36.4      63.6         7     35047   \n",
      "1372  4032400      57.6      42.4      36.4      63.6         7     35047   \n",
      "\n",
      "      M_BSAGT5  M_BSAL School Year     State  \\\n",
      "0        48803   45497   2017-2018  OKLAHOMA   \n",
      "1        48803   45497   2017-2018  OKLAHOMA   \n",
      "2        48803   45497   2017-2018  OKLAHOMA   \n",
      "3        48803   45497   2017-2018  OKLAHOMA   \n",
      "4        48803   45497   2017-2018  OKLAHOMA   \n",
      "...        ...     ...         ...       ...   \n",
      "1368     40469   38497   2016-2017  OKLAHOMA   \n",
      "1369     40469   38497   2016-2017  OKLAHOMA   \n",
      "1370     40469   38497   2016-2017  OKLAHOMA   \n",
      "1371     40469   38497   2016-2017  OKLAHOMA   \n",
      "1372     40469   38497   2016-2017  OKLAHOMA   \n",
      "\n",
      "     Local Education Agency (School District) Name  Data Group ID  \\\n",
      "0                                            BIXBY            695   \n",
      "1                                            BIXBY            695   \n",
      "2                                            BIXBY            695   \n",
      "3                                            BIXBY            695   \n",
      "4                                            BIXBY            695   \n",
      "...                                            ...            ...   \n",
      "1368                                     WESTVILLE            695   \n",
      "1369                                     WESTVILLE            695   \n",
      "1370                                     WESTVILLE            695   \n",
      "1371                                     WESTVILLE            695   \n",
      "1372                                     WESTVILLE            695   \n",
      "\n",
      "                                Data Description  Value  \\\n",
      "0     Four-Year Adjusted-Cohort Graduation Rates     92   \n",
      "1     Four-Year Adjusted-Cohort Graduation Rates   LT50   \n",
      "2     Four-Year Adjusted-Cohort Graduation Rates  70-74   \n",
      "3     Four-Year Adjusted-Cohort Graduation Rates   GE50   \n",
      "4     Four-Year Adjusted-Cohort Graduation Rates     PS   \n",
      "...                                          ...    ...   \n",
      "1368  Four-Year Adjusted-Cohort Graduation Rates  80-89   \n",
      "1369  Four-Year Adjusted-Cohort Graduation Rates     PS   \n",
      "1370  Four-Year Adjusted-Cohort Graduation Rates   GE50   \n",
      "1371  Four-Year Adjusted-Cohort Graduation Rates   GE50   \n",
      "1372  Four-Year Adjusted-Cohort Graduation Rates   GE90   \n",
      "\n",
      "      Number of Valid Test Takers                          Category  \n",
      "0                             440                      All Students  \n",
      "1                              10        Children with disabilities  \n",
      "2                              87        Economically Disadvantaged  \n",
      "3                               6                          Homeless  \n",
      "4                               4                   English Learner  \n",
      "...                           ...                               ...  \n",
      "1368                           34  American Indian or Alaska Native  \n",
      "1369                            1          Asian / Pacific Islander  \n",
      "1370                            6                   Hispanic/Latino  \n",
      "1371                            6                 Two or more races  \n",
      "1372                           39                             White  \n",
      "\n",
      "[1373 rows x 17 columns]\n"
     ]
    },
    {
     "data": {
      "text/plain": [
       "46140.362709395486"
      ]
     },
     "execution_count": 32,
     "metadata": {},
     "output_type": "execute_result"
    }
   ],
   "source": [
    "TeacherData=TeacherData.rename(columns = {'NCESSCH':'id'})\n",
    "GradRateData =GradRateData.rename(columns = {'NCES LEA ID':'id'})\n",
    "Education = pd.merge(TeacherData, GradRateData, on = 'id')\n",
    "print(Education)\n",
    "Education[\"M_BSAL\"].mean()"
   ]
  }
 ],
 "metadata": {
  "kernelspec": {
   "display_name": "Python 3",
   "language": "python",
   "name": "python3"
  },
  "language_info": {
   "codemirror_mode": {
    "name": "ipython",
    "version": 3
   },
   "file_extension": ".py",
   "mimetype": "text/x-python",
   "name": "python",
   "nbconvert_exporter": "python",
   "pygments_lexer": "ipython3",
   "version": "3.8.3"
  }
 },
 "nbformat": 4,
 "nbformat_minor": 4
}
